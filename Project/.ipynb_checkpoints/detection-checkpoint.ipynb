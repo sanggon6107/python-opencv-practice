{
 "cells": [
  {
   "cell_type": "markdown",
   "id": "92300cd7",
   "metadata": {},
   "source": [
    "# 프로젝트 : 얼굴을 인식하여 캐릭터 씌우기\n",
    "\n",
    "## Face Detection vs Face Recognition\n",
    "\n",
    "Face Detection : 영상 속에서 사람의 얼굴을 찾는 것.  \n",
    "Face Recognition : 영상 속의 얼굴이 어떤 사람인지 알아맞추는 것.\n",
    "  \n",
    "mediapipe 라이브러리를 활용."
   ]
  },
  {
   "cell_type": "code",
   "execution_count": 1,
   "id": "ada6dc4b",
   "metadata": {},
   "outputs": [
    {
     "name": "stdout",
     "output_type": "stream",
     "text": [
      "no frame.\n"
     ]
    }
   ],
   "source": [
    "import cv2\n",
    "import mediapipe as mp\n",
    "\n",
    "# 얼굴을 찾고, 찾은 얼굴에 표시를 해주기 위한 변수 정의\n",
    "mp_face_detection = mp.solutions.face_detection # 얼굴 검출을 위한 face_detection 모듈을 사용\n",
    "mp_drawing = mp.solutions.drawing_utils # 얼굴의 특징을 그리기 위한 drawing_utils 모듈을 사용\n",
    "\n",
    "\n",
    "# 동영상 파일 열기\n",
    "cap = cv2.VideoCapture('face.mp4')\n",
    "\n",
    "with mp_face_detection.FaceDetection(  # with문 : with루프 끝나면 close()할 필요 없이 자동으로 닫힌다.\n",
    "    model_selection=0, min_detection_confidence=0.7) as face_detection:\n",
    "    # model selection : 공식 문서에 따르면 모델 0은 근거리 얼굴에 적합하고, 1은 5미터 정도에 적합하다.\n",
    "    # min_detection_confidence : 얼굴 인식을 위한 쓰레쉬홀드. 신뢰도.\n",
    "    while cap.isOpened():\n",
    "        success, image = cap.read()\n",
    "        if not success:\n",
    "            print(\"no frame.\")\n",
    "            break\n",
    "\n",
    "        # To improve performance, optionally mark the image as not writeable to\n",
    "        # pass by reference.\n",
    "        image.flags.writeable = False\n",
    "        image = cv2.cvtColor(image, cv2.COLOR_BGR2RGB)\n",
    "        results = face_detection.process(image)\n",
    "\n",
    "        # Draw the face detection annotations on the image.\n",
    "        image.flags.writeable = True\n",
    "        image = cv2.cvtColor(image, cv2.COLOR_RGB2BGR)\n",
    "        \n",
    "        if results.detections:\n",
    "            for detection in results.detections:\n",
    "                mp_drawing.draw_detection(image, detection) # detection에는 신뢰도, location_data 등이 들어가 있다.\n",
    "                                                            # 내부에 6 부분의 특징(눈, 코, 입 중심, 귀) 정보.\n",
    "                \n",
    "                keypoints = detection.location_data.relative_keypoints \n",
    "                right_eye = keypoints[0] # keypoints의 첫 번째 요소는 오른쪽 눈의 좌표이다. 딕셔너리 {x : ~, y : ~}으로 구성.\n",
    "                left_eye = keypoints[1] # keypoints의 두 번째 요소는 왼쪽 눈의 좌표이다.\n",
    "                nose = keypoints[2]\n",
    "                \n",
    "                # 눈 좌표를 영상에 맞게 조절.\n",
    "                h, w, _ = image.shape # 이미지로부터 height, width, 크기 정보를 가져온다.\n",
    "                right_eye = (int(right_eye.x * w ), int(right_eye.y * h))\n",
    "                left_eye = (int(left_eye.x * w ), int(left_eye.y * h))\n",
    "                nose = (int(nose.x * w), int(nose.y * h))\n",
    "                \n",
    "                # 눈 표시\n",
    "                cv2.circle(image, right_eye, 50, (255, 255, 255), 10, cv2.LINE_AA)\n",
    "                cv2.circle(image, left_eye, 50, (255, 255, 255), 10, cv2.LINE_AA)\n",
    "                cv2.circle(image, nose, 50, (255, 255, 255), 15, cv2.LINE_AA)\n",
    "                \n",
    "        # Flip the image horizontally for a selfie-view display.\n",
    "        cv2.imshow('MediaPipe Face Detection', cv2.resize(image, None, fx = 0.5, fy = 0.5))\n",
    "        if cv2.waitKey(1) == ord('q'):\n",
    "            break\n",
    "cap.release()\n",
    "cv2.destroyAllWindows()"
   ]
  },
  {
   "cell_type": "code",
   "execution_count": null,
   "id": "39b68d23",
   "metadata": {},
   "outputs": [],
   "source": []
  }
 ],
 "metadata": {
  "kernelspec": {
   "display_name": "Python 3 (ipykernel)",
   "language": "python",
   "name": "python3"
  },
  "language_info": {
   "codemirror_mode": {
    "name": "ipython",
    "version": 3
   },
   "file_extension": ".py",
   "mimetype": "text/x-python",
   "name": "python",
   "nbconvert_exporter": "python",
   "pygments_lexer": "ipython3",
   "version": "3.9.7"
  }
 },
 "nbformat": 4,
 "nbformat_minor": 5
}
