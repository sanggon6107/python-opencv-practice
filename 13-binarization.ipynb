{
 "cells": [
  {
   "cell_type": "markdown",
   "id": "38ab9aef",
   "metadata": {},
   "source": [
    "# 13. 이진화"
   ]
  },
  {
   "cell_type": "code",
   "execution_count": 1,
   "id": "c17ef2bc",
   "metadata": {},
   "outputs": [],
   "source": [
    "import cv2\n",
    "\n",
    "img = cv2.imread('book.jpg', cv2.IMREAD_GRAYSCALE)\n",
    "\n",
    "ret, binary = cv.threshold(img, 127, 255, cv2.THRESH_BINARY) # 쓰레쉬홀드는 127. 이것 보다 크면 255(흰색)\n",
    "\n",
    "# thresholding type. 이미지 처리 방법.\n",
    "# \n",
    "# cv2.THRESH_BINARY        극단적으로 검은색과 흰색\n",
    "# cv2.THRESH_BINARY_INV    THRESH_BINARY와 반대로 처리.(흰, 검 뒤바꿈)\n",
    "# cv2.THRESH_TRUNC\n",
    "# cv2.THRESH_TOZERO\n",
    "# cv2.THRESH_TOZERO_INV\n",
    "#\n",
    "#\n",
    "\n",
    "cv2.imshow('img', img)\n",
    "cv2.imshow('binary', binary)\n",
    "cv2.waitKey(0)\n",
    "cv2.destroyAllWindows()"
   ]
  },
  {
   "cell_type": "markdown",
   "id": "f8d66720",
   "metadata": {},
   "source": [
    "## Trackbar(값 변화에 따른 변형 확인)"
   ]
  },
  {
   "cell_type": "code",
   "execution_count": 4,
   "id": "525194a1",
   "metadata": {
    "scrolled": false
   },
   "outputs": [],
   "source": [
    "import cv2\n",
    "img = cv2.imread('book.jpg', cv2.IMREAD_GRAYSCALE)\n",
    "\n",
    "def empty(pos) :\n",
    "    # print(pos)\n",
    "    pass\n",
    "\n",
    "\n",
    "name = 'Trackbar'\n",
    "cv2.namedWindow(name)\n",
    "\n",
    "cv2.createTrackbar('threshold', name, 127, 255, empty) # 트랙바를 만든다. 트랙바의 이름, 만들 윈도우 이름, 범위, 이벤트 처리 등을 인자로 넣는다.\n",
    "# bar 이름, 창의 이름, 초기값, 최대값, (트랙바 움직였을 때의?) 이벤트 처리\n",
    "\n",
    "while True : # 동영상 처리와 같다.\n",
    "    thresh = cv2.getTrackbarPos('threshold', name) # bar 이름, 창의 이름.\n",
    "    # getTrackbarPos()는 현재 트랙바의 위치(쓰레시홀드 숫자를 나타내므로 int형일 것.)를 반환한다.\n",
    "    # print(type(thresh))  # <class 'int'>\n",
    "    ret, binary = cv2.threshold(img, thresh, 255, cv2.THRESH_BINARY)\n",
    "    \n",
    "    if not ret :\n",
    "        break\n",
    "    \n",
    "    cv2.imshow(name, binary)\n",
    "    if cv2.waitKey(1) == ord('q') :\n",
    "        break\n",
    "    \n",
    "cv2.destroyAllWindows()"
   ]
  },
  {
   "cell_type": "markdown",
   "id": "ee164d29",
   "metadata": {},
   "source": [
    "## threshold"
   ]
  },
  {
   "cell_type": "code",
   "execution_count": 7,
   "id": "8cc15f6d",
   "metadata": {},
   "outputs": [],
   "source": [
    "# 트랙바 움직임에 따른 쓰레시홀드의 변화를 볼 수 있다.\n",
    "# 쓰레쉬홀드는 RGB 기반으로 이루어져있음을 알 수 있다. (진한회색 RGB는 127, 밝은 회색은 195이다.)\n",
    "\n",
    "import cv2\n",
    "img = cv2.imread('threshold.jpg', cv2.IMREAD_GRAYSCALE)\n",
    "\n",
    "def empty(pos) :\n",
    "    # print(pos)\n",
    "    pass\n",
    "\n",
    "\n",
    "name = 'Trackbar'\n",
    "cv2.namedWindow(name)\n",
    "\n",
    "cv2.createTrackbar('threshold', name, 127, 255, empty) # 트랙바를 만든다. 트랙바의 이름, 만들 윈도우 이름, 범위, 이벤트 처리 등을 인자로 넣는다.\n",
    "# bar 이름, 창의 이름, 초기값, 최대값, (트랙바 움직였을 때의?) 이벤트 처리\n",
    "\n",
    "while True : # 동영상 처리와 같다.\n",
    "    thresh = cv2.getTrackbarPos('threshold', name) # bar 이름, 창의 이름.\n",
    "    # getTrackbarPos()는 현재 트랙바의 위치(쓰레시홀드 숫자를 나타내므로 int형일 것.)를 반환한다.\n",
    "    # print(type(thresh))  # <class 'int'>\n",
    "    ret, binary = cv2.threshold(img, thresh, 255, cv2.THRESH_BINARY)\n",
    "    \n",
    "    if not ret :\n",
    "        break\n",
    "    \n",
    "    cv2.imshow(name, binary)\n",
    "    if cv2.waitKey(1) == ord('q') :\n",
    "        break\n",
    "    \n",
    "cv2.destroyAllWindows()"
   ]
  },
  {
   "cell_type": "code",
   "execution_count": null,
   "id": "f81e3a8b",
   "metadata": {},
   "outputs": [],
   "source": []
  }
 ],
 "metadata": {
  "kernelspec": {
   "display_name": "Python 3 (ipykernel)",
   "language": "python",
   "name": "python3"
  },
  "language_info": {
   "codemirror_mode": {
    "name": "ipython",
    "version": 3
   },
   "file_extension": ".py",
   "mimetype": "text/x-python",
   "name": "python",
   "nbconvert_exporter": "python",
   "pygments_lexer": "ipython3",
   "version": "3.9.7"
  }
 },
 "nbformat": 4,
 "nbformat_minor": 5
}
