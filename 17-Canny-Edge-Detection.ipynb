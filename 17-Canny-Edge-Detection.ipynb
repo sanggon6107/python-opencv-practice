{
 "cells": [
  {
   "cell_type": "markdown",
   "id": "b2bc9875",
   "metadata": {},
   "source": [
    "# 17. 이미지 검출(경계선)"
   ]
  },
  {
   "cell_type": "markdown",
   "id": "278d82ce",
   "metadata": {},
   "source": [
    "## Canny Edge Detection\n",
    "\n",
    "경계선 검출에 자주 쓰이는 알고리즘."
   ]
  },
  {
   "cell_type": "code",
   "execution_count": 1,
   "id": "d60122b1",
   "metadata": {},
   "outputs": [],
   "source": [
    "import cv2\n",
    "\n",
    "img = cv2.imread('snowman.png')\n",
    "\n",
    "canny = cv2.Canny(img, 150, 200)\n",
    "# argument : 대상 이미지, minVal(하위임계값), maxVal(상위임계값)\n",
    "\n",
    "cv2.imshow('img', img)\n",
    "cv2.imshow('canny', canny)\n",
    "cv2.waitKey(0)\n",
    "cv2.destroyAllWindows()"
   ]
  },
  {
   "cell_type": "markdown",
   "id": "c4f87cb4",
   "metadata": {},
   "source": [
    "## 트랙바로 임계값 조절"
   ]
  },
  {
   "cell_type": "code",
   "execution_count": 11,
   "id": "89be80ae",
   "metadata": {},
   "outputs": [],
   "source": [
    "import cv2\n",
    "\n",
    "def empty(pos) :\n",
    "    pass\n",
    "\n",
    "img = cv2.imread('snowman.png')\n",
    "\n",
    "name = \"Trackbar\"\n",
    "cv2.namedWindow(name) # 트랙바 만드려면 윈도우 일단 띄워야 한다.\n",
    "cv2.createTrackbar('threshold1', name, 150, 255, empty) # minVal\n",
    "cv2.createTrackbar('threshold2', name, 200, 255, empty) # maxVal\n",
    "\n",
    "while True :\n",
    "    threshold1 = cv2.getTrackbarPos('threshold1', name)\n",
    "    threshold2 = cv2.getTrackbarPos('threshold2', name)\n",
    "    \n",
    "    canny = cv2.Canny(img, threshold1, threshold2)\n",
    "    cv2.imshow('img', img)\n",
    "    cv2.imshow(name, canny)\n",
    "    if cv2.waitKey(1) == ord('q') :\n",
    "        break\n",
    "\n",
    "cv2.destroyAllWindows()"
   ]
  },
  {
   "cell_type": "code",
   "execution_count": null,
   "id": "b7459979",
   "metadata": {},
   "outputs": [],
   "source": []
  }
 ],
 "metadata": {
  "kernelspec": {
   "display_name": "Python 3 (ipykernel)",
   "language": "python",
   "name": "python3"
  },
  "language_info": {
   "codemirror_mode": {
    "name": "ipython",
    "version": 3
   },
   "file_extension": ".py",
   "mimetype": "text/x-python",
   "name": "python",
   "nbconvert_exporter": "python",
   "pygments_lexer": "ipython3",
   "version": "3.9.7"
  }
 },
 "nbformat": 4,
 "nbformat_minor": 5
}
