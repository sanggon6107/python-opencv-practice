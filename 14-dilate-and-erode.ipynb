{
 "cells": [
  {
   "cell_type": "markdown",
   "id": "4c5f9ede",
   "metadata": {},
   "source": [
    "# 14. 이미지 변환(팽창)  \n",
    "## 이미지를 확장하여 작은 구멍을 채움\n",
    "흰색 영역의 외곽 픽셀 주변에 이미지 픽셀을 추가.\n",
    "이미지를 팽창시킨다."
   ]
  },
  {
   "cell_type": "code",
   "execution_count": 1,
   "id": "60c73a96",
   "metadata": {},
   "outputs": [],
   "source": [
    "import cv2\n",
    "import numpy as np\n",
    "\n",
    "kernel = np.ones((3, 3), dtype = np.uint8) # dtype은 data type을 의미한다. uint는 음수가 아닌 8비트의 메모리 크기를 가진다.\n",
    "# kernel\n",
    "\n",
    "img = cv2.imread('dilate.png', cv2.IMREAD_GRAYSCALE)\n",
    "img_gray = cv2.imread('dilate_gray.png', cv2.IMREAD_GRAYSCALE)\n",
    "\n",
    "dilate_1 = cv2.dilate(img, kernel, iterations = 1)\n",
    "dilate_2 = cv2.dilate(img, kernel, iterations = 2)\n",
    "dilate_3 = cv2.dilate(img, kernel, iterations = 3)\n",
    "\n",
    "dilate_gray_1 = cv2.dilate(img_gray, kernel, iterations = 1)\n",
    "dilate_gray_2 = cv2.dilate(img_gray, kernel, iterations = 2)\n",
    "dilate_gray_3 = cv2.dilate(img_gray, kernel, iterations = 3)\n",
    "\n",
    "\n",
    "cv2.imshow('img', img)\n",
    "cv2.imshow('dilate_1', dilate_1)\n",
    "cv2.imshow('dilate_2', dilate_2)\n",
    "cv2.imshow('dilate_3', dilate_3)\n",
    "cv2.imshow('img_gray', img_gray)\n",
    "cv2.imshow('dilate_gray_1', dilate_gray_1)\n",
    "cv2.imshow('dilate_gray_2', dilate_gray_2)\n",
    "cv2.imshow('dilate_gray_3', dilate_gray_3)\n",
    "\n",
    "cv2.waitKey(0)\n",
    "cv2.destroyAllWindows()\n"
   ]
  },
  {
   "cell_type": "code",
   "execution_count": null,
   "id": "8f8a0633",
   "metadata": {},
   "outputs": [],
   "source": []
  },
  {
   "cell_type": "code",
   "execution_count": null,
   "id": "9b3da3e1",
   "metadata": {},
   "outputs": [],
   "source": []
  },
  {
   "cell_type": "code",
   "execution_count": null,
   "id": "3f486dfc",
   "metadata": {},
   "outputs": [],
   "source": []
  }
 ],
 "metadata": {
  "kernelspec": {
   "display_name": "Python 3 (ipykernel)",
   "language": "python",
   "name": "python3"
  },
  "language_info": {
   "codemirror_mode": {
    "name": "ipython",
    "version": 3
   },
   "file_extension": ".py",
   "mimetype": "text/x-python",
   "name": "python",
   "nbconvert_exporter": "python",
   "pygments_lexer": "ipython3",
   "version": "3.9.7"
  }
 },
 "nbformat": 4,
 "nbformat_minor": 5
}
