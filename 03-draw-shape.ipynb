{
 "cells": [
  {
   "cell_type": "markdown",
   "metadata": {},
   "source": [
    "# 3. 도형 그리기  \n",
    "\n",
    "사용자 얼굴이나 눈 등을 인식했을 때, 그 부분을 표시하기 위해 사각형이나 동그라미 등의 도형을 그릴 필요가 있다.  \n",
    "\n",
    "## 빈 스케치북 만들기"
   ]
  },
  {
   "cell_type": "code",
   "execution_count": 8,
   "metadata": {},
   "outputs": [],
   "source": [
    "import cv2\n",
    "import numpy as np\n",
    "\n",
    "# 세로 480 x 가로 640, 3channel(RGB) 스케치북 만들기\n",
    "\n",
    "img = np.zeros((480, 640, 3), dtype=np.uint8)  # 3x3(3chanels)의 zeros를 480 x 640개 만든다.\n",
    "\n",
    "# dtype : data type.\n",
    "# 예를들어 파이썬에서 보통 float은 64비트.\n",
    "# float32는 32비트를 쓴다.\n",
    "# uint8 : 8비트의 unsigned int. 즉, 부호 없는 8비트의 인트이다.\n",
    "\n",
    "\n",
    "img[:] = (255, 255, 255) # 전체 공간을 흰색으로 만든다. 흰 색으로 채우기.\n",
    "img[:] = (255, 0, 0) # 전체 공간을 파란색으로 채우기. opencv에서는 rgb가 아니라 bgr임.\n",
    "# print(img)\n",
    "cv2.imshow('window name', img)\n",
    "cv2.waitKey(0)\n",
    "cv2.destroyAllWindows()"
   ]
  },
  {
   "cell_type": "markdown",
   "metadata": {},
   "source": [
    "## 일부 영역 색칠하기"
   ]
  },
  {
   "cell_type": "code",
   "execution_count": 9,
   "metadata": {},
   "outputs": [],
   "source": [
    "import cv2\n",
    "import numpy as np\n",
    "\n",
    "# 세로 480 x 가로 640, 3channel(RGB) 스케치북 만들기\n",
    "\n",
    "img = np.zeros((480, 640, 3), dtype=np.uint8)  # 3x3(3chanels)의 zeros를 480 x 640개 만든다.\n",
    "img[100:200, 200:300] = (0, 255, 0) # 세로100 ~ 200, 가로 200 ~ 300 초록색으로 채운다.\n",
    "cv2.imshow('window name', img)\n",
    "cv2.waitKey(0)\n",
    "cv2.destroyAllWindows()"
   ]
  },
  {
   "cell_type": "markdown",
   "metadata": {},
   "source": [
    "## 직선\n",
    "직선의 종류(line type)\n",
    "1. cv2.LINE_4 : 상하좌우 4방향으로 점을 연결한 선\n",
    "2. cv2.LINE_8 : 대각선을 포함한 8방향으로 점을 연결한 선 (기본값)\n",
    "3. cv2.LINE_AA : 부드러운 선(anti-aliasing)"
   ]
  },
  {
   "cell_type": "code",
   "execution_count": 2,
   "metadata": {},
   "outputs": [],
   "source": [
    "import cv2\n",
    "import numpy as np\n",
    "\n",
    "img = np.zeros((480,640, 3), dtype=np.uint8)\n",
    "\n",
    "COLOR = (0, 255, 255) # Yellow\n",
    "THICKNESS = 3 # 두께\n",
    "\n",
    "cv2.line(img, (50, 100), (400, 50), COLOR, THICKNESS, cv2.LINE_8) # img에 (50, 100) 부터 (400, 50)까지\n",
    "# 그릴 위치, 시작점, 끝점, 색, 두께, 선 종류\n",
    "cv2.line(img, (50, 150), (400, 100), COLOR, THICKNESS, cv2.LINE_4)\n",
    "cv2.line(img, (50, 200), (400, 150), COLOR, THICKNESS, cv2.LINE_AA)\n",
    "cv2.imshow('window name', img)\n",
    "cv2.waitKey(0)\n",
    "cv2.destroyAllWindows()\n"
   ]
  },
  {
   "cell_type": "markdown",
   "metadata": {},
   "source": [
    "## 원"
   ]
  },
  {
   "cell_type": "code",
   "execution_count": 6,
   "metadata": {},
   "outputs": [],
   "source": [
    "import cv2\n",
    "import numpy as np\n",
    "\n",
    "img = np.zeros((480,640, 3), dtype=np.uint8)\n",
    "\n",
    "COLOR = (0, 255, 0) # green\n",
    "RADIUS = 50 # 반지름\n",
    "THICKNESS = 10 # 두께\n",
    "\n",
    "cv2.circle(img, (100, 100), RADIUS, COLOR, THICKNESS, cv2.LINE_AA) # 속이 빈 원\n",
    "cv2.circle(img, (300, 100), RADIUS, COLOR, cv2.FILLED, cv2.LINE_AA) # 속이 칠해진 원\n",
    "# 그릴 위치, 반지름, 컬러, 두께, 선 종류\n",
    "\n",
    "\n",
    "cv2.imshow('window name', img)\n",
    "cv2.waitKey(0)\n",
    "cv2.destroyAllWindows()"
   ]
  },
  {
   "cell_type": "markdown",
   "metadata": {},
   "source": [
    "## 사각형"
   ]
  },
  {
   "cell_type": "code",
   "execution_count": 10,
   "metadata": {},
   "outputs": [],
   "source": [
    "import cv2\n",
    "import numpy as np\n",
    "\n",
    "img = np.zeros((480,640, 3), dtype=np.uint8)\n",
    "\n",
    "COLOR = (255, 0, 0) # blue\n",
    "THICKNESS = 10 # 두께\n",
    "\n",
    "cv2.rectangle(img, (100, 100), (200, 300), COLOR, THICKNESS, cv2.LINE_AA) # 속이 빈 원\n",
    "cv2.rectangle(img, (300, 350), (600, 400), COLOR, cv2.FILLED, cv2.LINE_AA) # 속이 칠해진 원\n",
    "# 그릴 위치, 반지름, 컬러, 두께, 선 종류\n",
    "\n",
    "\n",
    "cv2.imshow('window name', img)\n",
    "cv2.waitKey(0)\n",
    "cv2.destroyAllWindows()"
   ]
  },
  {
   "cell_type": "markdown",
   "metadata": {},
   "source": [
    "## 다각형"
   ]
  },
  {
   "cell_type": "code",
   "execution_count": 17,
   "metadata": {},
   "outputs": [],
   "source": [
    "import cv2\n",
    "import numpy as np\n",
    "\n",
    "img = np.zeros((480,640, 3), dtype=np.uint8)\n",
    "\n",
    "COLOR = (255, 0, 255) # purple\n",
    "THICKNESS = 5 # 두께\n",
    "\n",
    "\n",
    "pts1 = np.array([[50, 50], [100, 25], [400, 120], [230, 150]])\n",
    "pts2 = np.array([[25, 25], [50, 300], [340, 250], [75, 100]])\n",
    "\n",
    "# cv2.polylines(img, [pts1], True, COLOR, THICKNESS, cv2.LINE_AA)\n",
    "# cv2.polylines(img, [pts2], True, COLOR, THICKNESS, cv2.LINE_AA)\n",
    "cv2.polylines(img, [pts1, pts2], True, COLOR, THICKNESS, cv2.LINE_AA) # true : 닫힌 도형. false : 열린 도형\n",
    "# 그릴 위치, 닫힘 여부, 색, 두께,선 종류\n",
    "\n",
    "pts3 = np.array([[[500, 400], [550, 430], [520, 400]], [[500, 25], [600, 60], [550, 20]]])\n",
    "\n",
    "cv2.fillPoly(img, pts3, COLOR, cv2.LINE_AA) # 꽉 찬 다각형\n",
    "\n",
    "cv2.imshow('window name', img)\n",
    "cv2.waitKey(0)\n",
    "cv2.destroyAllWindows()"
   ]
  },
  {
   "cell_type": "code",
   "execution_count": null,
   "metadata": {},
   "outputs": [],
   "source": []
  }
 ],
 "metadata": {
  "kernelspec": {
   "display_name": "Python 3 (ipykernel)",
   "language": "python",
   "name": "python3"
  },
  "language_info": {
   "codemirror_mode": {
    "name": "ipython",
    "version": 3
   },
   "file_extension": ".py",
   "mimetype": "text/x-python",
   "name": "python",
   "nbconvert_exporter": "python",
   "pygments_lexer": "ipython3",
   "version": "3.9.7"
  }
 },
 "nbformat": 4,
 "nbformat_minor": 4
}
