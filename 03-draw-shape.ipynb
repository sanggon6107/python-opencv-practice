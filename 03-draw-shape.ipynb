{
 "cells": [
  {
   "cell_type": "markdown",
   "metadata": {},
   "source": [
    "# 3. 도형 그리기  \n",
    "\n",
    ">사용자 얼굴이나 눈 등을 인식했을 때, 그 부분을 표시하기 위해 사각형이나 동그라미 등의 도형을 그릴 필요가 있다.  \n",
    "\n",
    "## 빈 스케치북 만들기"
   ]
  },
  {
   "cell_type": "code",
   "execution_count": 8,
   "metadata": {},
   "outputs": [],
   "source": [
    "import cv2\n",
    "import numpy as np\n",
    "\n",
    "# 세로 480 x 가로 640, 3channel(RGB) 스케치북 만들기\n",
    "\n",
    "img = np.zeros((480, 640, 3), dtype=np.uint8)  # 3x3(3chanels)의 zeros를 480 x 640개 만든다.\n",
    "img[:] = (255, 255, 255) # 전체 공간을 흰색으로 만든다. 흰 색으로 채우기.\n",
    "img[:] = (255, 0, 0) # 전체 공간을 파란색으로 채우기. opencv에서는 rgb가 아니라 bgr임.\n",
    "# print(img)\n",
    "cv2.imshow('window name', img)\n",
    "cv2.waitKey(0)\n",
    "cv2.destroyAllWindows()"
   ]
  },
  {
   "cell_type": "markdown",
   "metadata": {},
   "source": [
    "## 일부 영역 색칠하기"
   ]
  },
  {
   "cell_type": "code",
   "execution_count": 9,
   "metadata": {},
   "outputs": [],
   "source": [
    "import cv2\n",
    "import numpy as np\n",
    "\n",
    "# 세로 480 x 가로 640, 3channel(RGB) 스케치북 만들기\n",
    "\n",
    "img = np.zeros((480, 640, 3), dtype=np.uint8)  # 3x3(3chanels)의 zeros를 480 x 640개 만든다.\n",
    "img[100:200, 200:300] = (0, 255, 0) # 세로100 ~ 200, 가로 200 ~ 300 초록색으로 채운다.\n",
    "cv2.imshow('window name', img)\n",
    "cv2.waitKey(0)\n",
    "cv2.destroyAllWindows()"
   ]
  }
 ],
 "metadata": {
  "kernelspec": {
   "display_name": "Python 3",
   "language": "python",
   "name": "python3"
  },
  "language_info": {
   "codemirror_mode": {
    "name": "ipython",
    "version": 3
   },
   "file_extension": ".py",
   "mimetype": "text/x-python",
   "name": "python",
   "nbconvert_exporter": "python",
   "pygments_lexer": "ipython3",
   "version": "3.7.6"
  }
 },
 "nbformat": 4,
 "nbformat_minor": 4
}
