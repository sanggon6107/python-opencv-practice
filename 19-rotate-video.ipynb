{
 "cells": [
  {
   "cell_type": "markdown",
   "id": "f1dacd95",
   "metadata": {},
   "source": [
    "# 19. OpenCV를 사용하여 가로로 촬영된 영상을 세로로 회전하여 출력한다.\n",
    "\n",
    "1. 회전 : 시계 반대방향으로 90도\n",
    "2. 재생 속도 : 원본의 1.5배\n",
    "3. 출력 파일명 : city_rotated.avi(코덱 : DIVX)"
   ]
  },
  {
   "cell_type": "code",
   "execution_count": 4,
   "id": "27d9706f",
   "metadata": {},
   "outputs": [
    {
     "name": "stdout",
     "output_type": "stream",
     "text": [
      "no more frame\n"
     ]
    }
   ],
   "source": [
    "import cv2\n",
    "\n",
    "\n",
    "cap = cv2.VideoCapture('city.mp4')\n",
    "fourcc = cv2.VideoWriter_fourcc(*'DIVX')\n",
    "\n",
    "width = round(cap.get(cv2.CAP_PROP_FRAME_WIDTH))\n",
    "height = round(cap.get(cv2.CAP_PROP_FRAME_HEIGHT))\n",
    "fps = cap.get(cv2.CAP_PROP_FPS)\n",
    "\n",
    "video_writer = cv2.VideoWriter( 'city_rotated.avi', fourcc, fps * 1.5, (width, height) )\n",
    "\n",
    "while cap.isOpened() :\n",
    "    ret, frame = cap.read()\n",
    "    \n",
    "    if not ret :\n",
    "        print('no more frame')\n",
    "        break\n",
    "    \n",
    "    rotated_frame = cv2.rotate(frame, cv2.ROTATE_90_COUNTERCLOCKWISE)\n",
    "    video_writer.write(rotated_frame)\n",
    "    \n",
    "    cv2.imshow('frame', frame)\n",
    "    cv2.imshow('rotated_frame', rotated_frame)\n",
    "    \n",
    "    \n",
    "    if cv2.waitKey(1) == ord('q') :\n",
    "        break\n",
    "cap.release()\n",
    "cv2.destroyAllWindows()"
   ]
  },
  {
   "cell_type": "code",
   "execution_count": null,
   "id": "d86f0ef5",
   "metadata": {},
   "outputs": [],
   "source": [
    "\n",
    "\n"
   ]
  }
 ],
 "metadata": {
  "kernelspec": {
   "display_name": "Python 3 (ipykernel)",
   "language": "python",
   "name": "python3"
  },
  "language_info": {
   "codemirror_mode": {
    "name": "ipython",
    "version": 3
   },
   "file_extension": ".py",
   "mimetype": "text/x-python",
   "name": "python",
   "nbconvert_exporter": "python",
   "pygments_lexer": "ipython3",
   "version": "3.9.7"
  }
 },
 "nbformat": 4,
 "nbformat_minor": 5
}
