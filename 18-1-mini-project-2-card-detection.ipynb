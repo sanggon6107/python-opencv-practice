{
 "cells": [
  {
   "cell_type": "markdown",
   "id": "9f06ca39",
   "metadata": {},
   "source": [
    "# 18-1. 미니 프로젝트 2 : 개별 카드 추출해서 파일 저장"
   ]
  },
  {
   "cell_type": "code",
   "execution_count": 3,
   "id": "5d303e0b",
   "metadata": {},
   "outputs": [],
   "source": [
    "import cv2\n",
    "\n",
    "img = cv2.imread('card.png')\n",
    "target_img = img.copy() # 윤곽선 검출은 원본 이미지를 바꿔버리기 때문에 사본을 만들어서 작업한다.\n",
    "\n",
    "# 전처리(그레이 스케일로 변환 -> 오츠로 이진화)\n",
    "gray = cv2.cvtColor(target_img, cv2.COLOR_BGR2GRAY)\n",
    "ret, otsu = cv2.threshold(gray, -1, 255, cv2.THRESH_BINARY | cv2.THRESH_OTSU)\n",
    "\n",
    "contours, hierachy = cv2.findContours(otsu, cv2.RETR_LIST, cv2.CHAIN_APPROX_NONE) # 윤곽선 검출\n",
    "\n",
    "\n",
    "#윤곽선 그리기\n",
    "COLOR = (0, 255, 0)\n",
    "THICKNESS = 2\n",
    "# argument : 대상 이미지, 윤곽선 정보, 인덱스(윤곽선 10개면 첫번쨰, 두번째 .. 만 표현할 수 있다. -1이면 전체), 색깔, 두께\n",
    "\n",
    "idx = 1\n",
    "for cnt in contours :\n",
    "    if cv2.contourArea(cnt) > 25000 :                # 특정 크기 이상일 때만\n",
    "        x, y, width, height = cv2.boundingRect(cnt)  # boundingRect로 사각형 정보\n",
    "        cv2.rectangle(target_img, (x, y), (x + width, y + height), COLOR, THICKNESS) # 사각형 그리기\n",
    "        \n",
    "        crop = img[y:y+height, x:x+width] # 이미지 잘라내기\n",
    "        cv2.imshow(f'card_crop_{idx}', crop)  # imshow로 잘린 카드만 보여주기.\n",
    "        cv2.imwrite(f'card_crop_{idx}.png', crop) # 파일 저장.\n",
    "        idx+=1\n",
    "    \n",
    "cv2.imshow('img', img)\n",
    "cv2.imshow('contour', target_img)\n",
    "\n",
    "\n",
    "cv2.waitKey(0)\n",
    "cv2.destroyAllWindows()"
   ]
  }
 ],
 "metadata": {
  "kernelspec": {
   "display_name": "Python 3 (ipykernel)",
   "language": "python",
   "name": "python3"
  },
  "language_info": {
   "codemirror_mode": {
    "name": "ipython",
    "version": 3
   },
   "file_extension": ".py",
   "mimetype": "text/x-python",
   "name": "python",
   "nbconvert_exporter": "python",
   "pygments_lexer": "ipython3",
   "version": "3.9.7"
  }
 },
 "nbformat": 4,
 "nbformat_minor": 5
}
