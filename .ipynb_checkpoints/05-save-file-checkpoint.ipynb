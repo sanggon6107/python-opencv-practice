{
 "cells": [
  {
   "cell_type": "markdown",
   "metadata": {},
   "source": [
    "# 5. 파일 저장"
   ]
  },
  {
   "cell_type": "markdown",
   "metadata": {},
   "source": [
    "## 이미지 저장"
   ]
  },
  {
   "cell_type": "code",
   "execution_count": 2,
   "metadata": {},
   "outputs": [
    {
     "name": "stdout",
     "output_type": "stream",
     "text": [
      "True\n"
     ]
    }
   ],
   "source": [
    "# 고양이 그림을 불러와서 흑백으로 바꾸고 다시 저장.\n",
    "import cv2\n",
    "\n",
    "img = cv2.imread('cat.jpg', cv2.IMREAD_GRAYSCALE) # 흑백으로 불러오기\n",
    "cv2.imshow('imp', img)\n",
    "cv2.waitKey(0)\n",
    "cv2.destroyAllWindows()\n",
    "\n",
    "result = cv2.imwrite('img_save.jpg', img) # imwrite는 이미지 저장 여부를 리턴한다. png등의 형태도 저장 가능.\n",
    "print(result)"
   ]
  },
  {
   "cell_type": "markdown",
   "metadata": {},
   "source": [
    "## 동영상 저장"
   ]
  },
  {
   "cell_type": "code",
   "execution_count": 5,
   "metadata": {},
   "outputs": [
    {
     "name": "stdout",
     "output_type": "stream",
     "text": [
      "no more frame\n"
     ]
    }
   ],
   "source": [
    "import cv2\n",
    "cap = cv2.VideoCapture('cat-video.mp4')\n",
    "\n",
    "# 코덱 정의. \n",
    "# 참고 - 코덱 : coder and decoder 의 준말. 음성이나 영상 정보를 인코딩, 디코딩 하는 방식을 말한다. 문자 인코딩 방식과 유사.\n",
    "fourcc = cv2.VideoWriter_fourcc(*'DIVX')\n",
    "\n",
    "# 프레임의 크기, fps 정의\n",
    "width = round(cap.get(cv2.CAP_PROP_FRAME_WIDTH)) # VideoCapture 의 멤버 함수 get()으로 넓이, 높이 정보 가져온다.\n",
    "height = round(cap.get(cv2.CAP_PROP_FRAME_HEIGHT)) # round함수 : 반올림. 두번째 인자 주지 않으면 소수 첫 번째에서 반올림하여 정수 형태로 반환한다.\n",
    "fps = cap.get(cv2.CAP_PROP_FPS) # VideoCapture 의 멤버 함수 get()으로 fps 정보 가져온다. *2로 2배 하면 2배 빠른 속도의 영상으로 저장한다.\n",
    "\n",
    "\n",
    "out = cv2.VideoWriter('output.avi', fourcc, fps, (width, height))\n",
    "# 파일 저장명, 코덱, fps, 크기.\n",
    "\n",
    "# 참고 - 리터럴에 * 의미 :\n",
    "# string = [\"string\"]\n",
    "# string2 = [*\"string\"]\n",
    "# print(string)\n",
    "# print(string2)\n",
    "##\n",
    "\n",
    "\n",
    "while cap.isOpened() :\n",
    "    ret, frame = cap.read()\n",
    "    if not ret :\n",
    "        print('no more frame')\n",
    "        break\n",
    "    out.write(frame) # 영상 데이터만. 저장(소리 x)\n",
    "    cv2.imshow('window', frame)\n",
    "    if cv2.waitKey(25) == ord('q') :\n",
    "        break\n",
    "\n",
    "out.release()\n",
    "cap.release()\n",
    "cv2.destroyAllWindows()"
   ]
  },
  {
   "cell_type": "code",
   "execution_count": null,
   "metadata": {},
   "outputs": [],
   "source": []
  },
  {
   "cell_type": "code",
   "execution_count": null,
   "metadata": {},
   "outputs": [],
   "source": []
  }
 ],
 "metadata": {
  "kernelspec": {
   "display_name": "Python 3",
   "language": "python",
   "name": "python3"
  },
  "language_info": {
   "codemirror_mode": {
    "name": "ipython",
    "version": 3
   },
   "file_extension": ".py",
   "mimetype": "text/x-python",
   "name": "python",
   "nbconvert_exporter": "python",
   "pygments_lexer": "ipython3",
   "version": "3.7.6"
  }
 },
 "nbformat": 4,
 "nbformat_minor": 4
}
