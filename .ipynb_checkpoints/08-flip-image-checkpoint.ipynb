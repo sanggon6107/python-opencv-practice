{
 "cells": [
  {
   "cell_type": "markdown",
   "metadata": {},
   "source": [
    "# 8. 이미지 대칭"
   ]
  },
  {
   "cell_type": "markdown",
   "metadata": {},
   "source": [
    "## 좌우 대칭\n",
    "\n",
    "cv2.flip(이미지 객체, flip code)로 대칭할 수 있다.  \n",
    "두 번째 인자인 flip code에 양수를 넣으면 좌우 대칭이 된다."
   ]
  },
  {
   "cell_type": "code",
   "execution_count": 2,
   "metadata": {},
   "outputs": [],
   "source": [
    "import cv2\n",
    "\n",
    "img = cv2.imread('cat.jpg')\n",
    "flip_img = cv2.flip(img, 1)\n",
    "\n",
    "cv2.imshow('image', img)\n",
    "cv2.imshow('flip', flip_img)\n",
    "cv2.waitKey(0)\n",
    "cv2.destroyAllWindows()"
   ]
  },
  {
   "cell_type": "markdown",
   "metadata": {},
   "source": [
    "## 상하 대칭\n",
    "flip code == 0 이면 상하 대칭된다."
   ]
  },
  {
   "cell_type": "code",
   "execution_count": 3,
   "metadata": {},
   "outputs": [],
   "source": [
    "import cv2\n",
    "\n",
    "img = cv2.imread('cat.jpg')\n",
    "flip_img = cv2.flip(img, 0) # 상하 대칭\n",
    "\n",
    "cv2.imshow('image', img)\n",
    "cv2.imshow('flip', flip_img)\n",
    "cv2.waitKey(0)\n",
    "cv2.destroyAllWindows()"
   ]
  },
  {
   "cell_type": "markdown",
   "metadata": {},
   "source": [
    "## 상하, 좌우 동시 대칭\n",
    "\n",
    "flip code가 0보다 작으면 상하좌우 대칭된다."
   ]
  },
  {
   "cell_type": "code",
   "execution_count": 4,
   "metadata": {},
   "outputs": [],
   "source": [
    "import cv2\n",
    "\n",
    "img = cv2.imread('cat.jpg')\n",
    "flip_img = cv2.flip(img, -1) # 상하 대칭\n",
    "\n",
    "cv2.imshow('image', img)\n",
    "cv2.imshow('flip', flip_img)\n",
    "cv2.waitKey(0)\n",
    "cv2.destroyAllWindows()"
   ]
  },
  {
   "cell_type": "markdown",
   "metadata": {},
   "source": [
    "## 응용 : 비디오 x축 대칭 시키기"
   ]
  },
  {
   "cell_type": "code",
   "execution_count": 6,
   "metadata": {},
   "outputs": [],
   "source": [
    "import cv2\n",
    "\n",
    "CatVideo = cv2.VideoCapture('cat-video.mp4') # 비디오 캡쳐. 파일 객체 CatVideo에 저장.\n",
    "\n",
    "while CatVideo.isOpened() : # 동영상 파일이 올바로 열렸는지?\n",
    "    ret, frame = CatVideo.read() # ret : 성공 여부. frame : 받아온 이미지 ( 프레임 ). imread와 비슷하다.\n",
    "    if not ret : # 더이상 가져올 프레임이 없다.\n",
    "        print('no frame anymore.')\n",
    "        break\n",
    "    flip = cv2.flip(frame, 0) # 영상 상하대칭.\n",
    "    \n",
    "    frame[0:( round(len(frame)/2) ), 0:len(frame[0])] = flip[0:( round(len(frame)/2 )), 0:len(frame[0])]  # 기존 이미지 반 쪼개서 위에는 대칭된 이미지 출력.\n",
    "    \n",
    "    cv2.imshow('window name', frame) # 프레임 있으면 보여달라.\n",
    "    \n",
    "    if cv2.waitKey(25) == ord('q') :  # 키보드 q와 같은 코드를 가진 키보드를 받는다면(프레임당 25ms 기다린다.)\n",
    "        break\n",
    "CatVideo.release() # 자원 해제.\n",
    "cv2.destroyAllWindows() # 모든 창 닫기."
   ]
  },
  {
   "cell_type": "code",
   "execution_count": null,
   "metadata": {},
   "outputs": [],
   "source": []
  }
 ],
 "metadata": {
  "kernelspec": {
   "display_name": "Python 3",
   "language": "python",
   "name": "python3"
  },
  "language_info": {
   "codemirror_mode": {
    "name": "ipython",
    "version": 3
   },
   "file_extension": ".py",
   "mimetype": "text/x-python",
   "name": "python",
   "nbconvert_exporter": "python",
   "pygments_lexer": "ipython3",
   "version": "3.7.6"
  }
 },
 "nbformat": 4,
 "nbformat_minor": 4
}
