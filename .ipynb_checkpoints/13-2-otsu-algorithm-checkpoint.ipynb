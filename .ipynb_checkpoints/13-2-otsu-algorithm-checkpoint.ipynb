{
 "cells": [
  {
   "cell_type": "markdown",
   "id": "aa72524d",
   "metadata": {},
   "source": [
    "# 오츠 알고리즘\n",
    "\n",
    "otsu라는 사람이 최적의 threshold를 찾는 방법을 고안함. 즉 Otsu's algorithm은 Threshold determination algorithm중 하나임.\n",
    "  \n",
    "bimodal image에 대하여 적용하기 적합."
   ]
  },
  {
   "cell_type": "code",
   "execution_count": 2,
   "id": "7cbfbb72",
   "metadata": {},
   "outputs": [
    {
     "name": "stdout",
     "output_type": "stream",
     "text": [
      "otsu threshold 100.0\n"
     ]
    }
   ],
   "source": [
    "import cv2\n",
    "\n",
    "# 결과를 보면 책의 형태를 거의 알아보지 못한다.\n",
    "# 오츠 알고리즘은 모든 형태에 대해 최적의 임계점을 찾아주지는 못하고,\n",
    "# bimodal 이미지에 대해서만 최적의 결과를 찾아줄 수 있다.\n",
    "\n",
    "# The original Otsu scheme obtains improving results for segmenting \n",
    "# an gray level image with a bimodal distributed histogram.\n",
    "\n",
    "\n",
    "img = cv2.imread('book.jpg', cv2.IMREAD_GRAYSCALE)\n",
    "\n",
    "ret, binary = cv2.threshold(img, 127, 255, cv2.THRESH_BINARY)\n",
    "ret_otsu, binary_otsu = cv2.threshold(img, -1, 255, cv2.THRESH_BINARY | cv2.THRESH_OTSU)\n",
    "print('otsu threshold', ret_otsu) # 발견된 최적의 쓰레쉬홀드.\n",
    "\n",
    "\n",
    "cv2.imshow('img', img)\n",
    "cv2.imshow('binary', binary)\n",
    "cv2.imshow('otsu', binary_otsu)\n",
    "\n",
    "cv2.waitKey(0)\n",
    "cv2.destroyAllWindows()"
   ]
  },
  {
   "cell_type": "code",
   "execution_count": null,
   "id": "2f1206ce",
   "metadata": {},
   "outputs": [],
   "source": []
  }
 ],
 "metadata": {
  "kernelspec": {
   "display_name": "Python 3 (ipykernel)",
   "language": "python",
   "name": "python3"
  },
  "language_info": {
   "codemirror_mode": {
    "name": "ipython",
    "version": 3
   },
   "file_extension": ".py",
   "mimetype": "text/x-python",
   "name": "python",
   "nbconvert_exporter": "python",
   "pygments_lexer": "ipython3",
   "version": "3.9.7"
  }
 },
 "nbformat": 4,
 "nbformat_minor": 5
}
