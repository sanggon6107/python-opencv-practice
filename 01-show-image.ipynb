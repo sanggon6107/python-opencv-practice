{
 "cells": [
  {
   "cell_type": "markdown",
   "metadata": {},
   "source": [
    "# 1. 이미지 출력\n",
    "\n",
    "이미지 출처 : pixabay"
   ]
  },
  {
   "cell_type": "code",
   "execution_count": 13,
   "metadata": {},
   "outputs": [],
   "source": [
    "import cv2\n",
    "\n",
    "img = cv2.imread('cat.jpg') # 해당 경로의 파일 읽어오기\n",
    "cv2.imshow('window name', img) # 'window name'이라는 창에 img를 표시\n",
    "key = cv2.waitKey(0) # 지정된 시간 동안 사용자 키 입력 대기. 0은 무한.\n",
    "print(key) # 입력된 key의 코드값 확인해보기.\n",
    "cv2.destroyAllWindows() # 창 모두 닫기."
   ]
  },
  {
   "cell_type": "markdown",
   "metadata": {},
   "source": [
    "## 1-1. 읽기 옵션\n",
    "\n",
    "1. cv2.IMREAD_COLOR : 컬러 이미지. 투명 영역은 무시한다. (기본값)\n",
    "2. cv2.IMREAD_GRAYSCALE : 흑백 이미지\n",
    "3. cv2.IMREAD_UNCHANGED : 투명 영역까지 포함해서 이미지 그대로."
   ]
  },
  {
   "cell_type": "code",
   "execution_count": 3,
   "metadata": {},
   "outputs": [],
   "source": [
    "import cv2\n",
    "ImgColor = cv2.imread('cat.jpg', cv2.IMREAD_COLOR)\n",
    "ImgGray = cv2.imread('cat.jpg', cv2.IMREAD_GRAYSCALE)\n",
    "ImgUnchanged = cv2.imread('cat.jpg',cv2.IMREAD_UNCHANGED)\n",
    "\n",
    "cv2.imshow('color', ImgColor)\n",
    "cv2.waitKey(0)\n",
    "cv2.imshow('gray', ImgGray)\n",
    "cv2.waitKey(0)\n",
    "cv2.imshow('unchanged', ImgUnchanged)\n",
    "cv2.waitKey(0)\n",
    "\n",
    "cv2.destroyAllWindows()"
   ]
  },
  {
   "cell_type": "markdown",
   "metadata": {},
   "source": [
    "## Shape\n",
    "\n",
    "이미지의 height, width, channel 정보"
   ]
  },
  {
   "cell_type": "code",
   "execution_count": 1,
   "metadata": {},
   "outputs": [
    {
     "name": "stdout",
     "output_type": "stream",
     "text": [
      "(390, 640, 3)\n"
     ]
    }
   ],
   "source": [
    "import cv2\n",
    "Img = cv2.imread('cat.jpg')\n",
    "print(Img.shape) # 세로, 가로, channel 정보. channel이 3인것은 rgb 3개 요소라는 뜻. 투명까지 포함하면 알파값까지 합해서 4가 출력된다.\n",
    "cv2.waitKey(0)\n",
    "cv2.destroyAllWindows()"
   ]
  }
 ],
 "metadata": {
  "kernelspec": {
   "display_name": "Python 3",
   "language": "python",
   "name": "python3"
  },
  "language_info": {
   "codemirror_mode": {
    "name": "ipython",
    "version": 3
   },
   "file_extension": ".py",
   "mimetype": "text/x-python",
   "name": "python",
   "nbconvert_exporter": "python",
   "pygments_lexer": "ipython3",
   "version": "3.7.6"
  }
 },
 "nbformat": 4,
 "nbformat_minor": 4
}
