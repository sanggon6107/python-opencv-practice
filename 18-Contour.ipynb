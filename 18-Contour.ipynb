{
 "cells": [
  {
   "cell_type": "markdown",
   "id": "ec131360",
   "metadata": {},
   "source": [
    "# 18. 이미지 검출(윤곽선)"
   ]
  },
  {
   "cell_type": "markdown",
   "id": "92c93724",
   "metadata": {},
   "source": [
    "## 윤곽선(contour) : 경계선을 연결한 선을 윤곽선이라 한다."
   ]
  },
  {
   "cell_type": "code",
   "execution_count": 5,
   "id": "9854f16a",
   "metadata": {},
   "outputs": [],
   "source": [
    "import cv2\n",
    "\n",
    "img = cv2.imread('card.png')\n",
    "target_img = img.copy() # 윤곽선 검출은 원본 이미지를 바꿔버리기 때문에 사본을 만들어서 작업한다.\n",
    "\n",
    "# 전처리(그레이 스케일로 변환 -> 오츠로 이진화)\n",
    "gray = cv2.cvtColor(target_img, cv2.COLOR_BGR2GRAY)\n",
    "ret, otsu = cv2.threshold(gray, -1, 255, cv2.THRESH_BINARY | cv2.THRESH_OTSU)\n",
    "\n",
    "contours, hierachy = cv2.findContours(otsu, cv2.RETR_LIST, cv2.CHAIN_APPROX_NONE) # 윤곽선 검출\n",
    "# 윤곽선 정보, 구조\n",
    "# argument : 순서대로 이미지, 윤곽선 찾는 모드(mode), 윤곽선 찾을 때 사용하는 근사치 방법(method)\n",
    "\n",
    "#윤곽선 그리기\n",
    "COLOR = (0, 255, 0)\n",
    "THICKNESS = 2\n",
    "cv2.drawContours(target_img, contours, -1, COLOR, THICKNESS) # 윤곽선 그리기\n",
    "# argument : 대상 이미지, 윤곽선 정보, 인덱스(윤곽선 10개면 첫번쨰, 두번째 .. 만 표현할 수 있다. -1이면 전체), 색깔, 두께\n",
    "\n",
    "cv2.imshow('img', img)\n",
    "cv2.imshow('gray', gray)\n",
    "cv2.imshow('otsu', otsu)\n",
    "cv2.imshow('contour', target_img)\n",
    "\n",
    "\n",
    "cv2.waitKey(0)\n",
    "cv2.destroyAllWindows()"
   ]
  },
  {
   "cell_type": "code",
   "execution_count": null,
   "id": "7e246626",
   "metadata": {},
   "outputs": [],
   "source": []
  },
  {
   "cell_type": "code",
   "execution_count": null,
   "id": "1dc058da",
   "metadata": {},
   "outputs": [],
   "source": []
  }
 ],
 "metadata": {
  "kernelspec": {
   "display_name": "Python 3 (ipykernel)",
   "language": "python",
   "name": "python3"
  },
  "language_info": {
   "codemirror_mode": {
    "name": "ipython",
    "version": 3
   },
   "file_extension": ".py",
   "mimetype": "text/x-python",
   "name": "python",
   "nbconvert_exporter": "python",
   "pygments_lexer": "ipython3",
   "version": "3.9.7"
  }
 },
 "nbformat": 4,
 "nbformat_minor": 5
}
