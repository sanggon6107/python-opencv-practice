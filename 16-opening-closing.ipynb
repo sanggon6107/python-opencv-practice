{
 "cells": [
  {
   "cell_type": "markdown",
   "id": "0830c027",
   "metadata": {},
   "source": [
    "# 16. 이미지 변환(열림 & 닫힘)  \n",
    "## 열림(opening) : 침식 후 팽창. 깎아서 노이즈를 모두 제거한 다음 다시 살찌움\n",
    "> dilate(erode(image))"
   ]
  },
  {
   "cell_type": "code",
   "execution_count": 5,
   "id": "f0f474af",
   "metadata": {},
   "outputs": [],
   "source": [
    "import cv2\n",
    "import numpy as np\n",
    "\n",
    "img = cv2.imread('erode.png', cv2.IMREAD_GRAYSCALE)\n",
    "\n",
    "# kernel\n",
    "kernel = np.ones((3, 3), dtype = np.uint8)\n",
    "\n",
    "erode = cv2.erode(img, kernel, iterations = 4)\n",
    "dilate = cv2.dilate(erode, kernel, iterations = 4)\n",
    "\n",
    "ret, result = cv2.threshold(dilate, 120, 255, cv2.THRESH_BINARY)\n",
    "\n",
    "\n",
    "cv2.imshow('img', img)\n",
    "cv2.imshow('opening', dilate)\n",
    "cv2.imshow('result', result)\n",
    "cv2.waitKey(0)\n",
    "cv2.destroyAllWindows()"
   ]
  },
  {
   "cell_type": "markdown",
   "id": "fe609e2b",
   "metadata": {},
   "source": [
    "## 닫힘 (closing) : 팽창 후 침식. 구멍을 메운 후 다시 깎음\n",
    "> img(dilate(img))"
   ]
  },
  {
   "cell_type": "code",
   "execution_count": 18,
   "id": "b95d9bf9",
   "metadata": {},
   "outputs": [],
   "source": [
    "import cv2\n",
    "import numpy as np\n",
    "\n",
    "img = cv2.imread('dilate.png', cv2.IMREAD_GRAYSCALE)\n",
    "\n",
    "# kernel\n",
    "kernel = np.ones((3, 3), dtype = np.uint8)\n",
    "\n",
    "dilate = cv2.dilate(img, kernel, iterations = 4)\n",
    "erode = cv2.erode(dilate, kernel, iterations = 4)\n",
    "\n",
    "\n",
    "cv2.imshow('img', img)\n",
    "cv2.imshow('opening', erode)\n",
    "\n",
    "cv2.waitKey(0)\n",
    "cv2.destroyAllWindows()"
   ]
  },
  {
   "cell_type": "code",
   "execution_count": null,
   "id": "9bf34eed",
   "metadata": {},
   "outputs": [],
   "source": []
  },
  {
   "cell_type": "code",
   "execution_count": null,
   "id": "9070d9fc",
   "metadata": {},
   "outputs": [],
   "source": []
  }
 ],
 "metadata": {
  "kernelspec": {
   "display_name": "Python 3 (ipykernel)",
   "language": "python",
   "name": "python3"
  },
  "language_info": {
   "codemirror_mode": {
    "name": "ipython",
    "version": 3
   },
   "file_extension": ".py",
   "mimetype": "text/x-python",
   "name": "python",
   "nbconvert_exporter": "python",
   "pygments_lexer": "ipython3",
   "version": "3.9.7"
  }
 },
 "nbformat": 4,
 "nbformat_minor": 5
}
