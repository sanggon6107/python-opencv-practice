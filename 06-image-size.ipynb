{
 "cells": [
  {
   "cell_type": "markdown",
   "metadata": {},
   "source": [
    "# 6. 이미지 크기 조정"
   ]
  },
  {
   "cell_type": "markdown",
   "metadata": {},
   "source": [
    "## 이미지\n",
    "> 고정 크기로 설정하는 방법과 비율로 설정하는 방법이 있다."
   ]
  },
  {
   "cell_type": "markdown",
   "metadata": {},
   "source": [
    "고정 크기로 설정"
   ]
  },
  {
   "cell_type": "code",
   "execution_count": 2,
   "metadata": {},
   "outputs": [],
   "source": [
    "import cv2\n",
    "\n",
    "img = cv2.imread('cat.jpg', cv2.IMREAD_GRAYSCALE)\n",
    "dst = cv2.resize(img, (400, 500)) # width, height  고정 크기\n",
    "\n",
    "cv2.imshow('img', img)\n",
    "cv2.imshow('resize', dst)\n",
    "\n",
    "cv2.waitKey(0)\n",
    "cv2.destroyAllWindows()"
   ]
  },
  {
   "cell_type": "markdown",
   "metadata": {},
   "source": [
    "비율로 설정"
   ]
  },
  {
   "cell_type": "code",
   "execution_count": 3,
   "metadata": {},
   "outputs": [],
   "source": [
    "import cv2\n",
    "\n",
    "img = cv2.imread('cat.jpg', cv2.IMREAD_GRAYSCALE)\n",
    "dst = cv2.resize(img, None, fx = 0.5, fy = 0.5) # x, y 비율 0.5배로\n",
    "\n",
    "cv2.imshow('img', img)\n",
    "cv2.imshow('resize', dst)\n",
    "\n",
    "cv2.waitKey(0)\n",
    "cv2.destroyAllWindows()"
   ]
  },
  {
   "cell_type": "markdown",
   "metadata": {},
   "source": [
    "### 보간법\n",
    "예를 들어, 500짜리 크기의 그림을 1000으로 늘리면, 중간중간에 비는 픽셀이 있을 것인데\n",
    "이러한 사이즈에 대한 보간법을 선택할 수 있다.\n",
    "\n",
    "1. cv2.INTER_AREA : 크기 줄일 때 사용\n",
    "2. cv2.INTER_CUBIC : 크기 늘릴 때 사용 (속도 느림, 퀄리티 좋음)\n",
    "3. cv2.INTER_LINEAR : 크기 늘릴 때 사용, 기본값. 선형 보간.\n",
    "\n",
    "## 보간법 적용하여 축소."
   ]
  },
  {
   "cell_type": "code",
   "execution_count": 5,
   "metadata": {},
   "outputs": [],
   "source": [
    "import cv2\n",
    "\n",
    "img = cv2.imread('cat.jpg', cv2.IMREAD_GRAYSCALE)\n",
    "dst = cv2.resize(img, None, fx = 0.5, fy = 0.5, interpolation = cv2.INTER_AREA) # x, y 비율 0.5배로\n",
    "\n",
    "cv2.imshow('img', img)\n",
    "cv2.imshow('resize', dst)\n",
    "\n",
    "cv2.waitKey(0)\n",
    "cv2.destroyAllWindows()"
   ]
  },
  {
   "cell_type": "markdown",
   "metadata": {},
   "source": [
    "## 보간법 적용하여 확대"
   ]
  },
  {
   "cell_type": "code",
   "execution_count": 6,
   "metadata": {},
   "outputs": [],
   "source": [
    "import cv2\n",
    "\n",
    "img = cv2.imread('cat.jpg', cv2.IMREAD_GRAYSCALE)\n",
    "dst = cv2.resize(img, None, fx = 2, fy = 2) # 기존 보간법\n",
    "dst2 = cv2.resize(img, None, fx = 2, fy = 2, interpolation = cv2.INTER_CUBIC) # INTER_CUBIC 적용하여 확대\n",
    "\n",
    "cv2.imshow('img', img)\n",
    "cv2.imshow('resize', dst)\n",
    "cv2.imshow('resize_inter_cubic', dst2)\n",
    "\n",
    "cv2.waitKey(0)\n",
    "cv2.destroyAllWindows()"
   ]
  },
  {
   "cell_type": "markdown",
   "metadata": {},
   "source": [
    "## 동영상 크기 조정"
   ]
  },
  {
   "cell_type": "markdown",
   "metadata": {},
   "source": [
    "고정 크기로 설정"
   ]
  },
  {
   "cell_type": "code",
   "execution_count": 14,
   "metadata": {},
   "outputs": [],
   "source": [
    "import cv2\n",
    "\n",
    "cap = cv2.VideoCapture('cat-video.mp4')\n",
    "while cap.isOpened() :\n",
    "    ret, frame = cap.read()\n",
    "    \n",
    "    if not ret :\n",
    "        break\n",
    "    frame_resized = cv2.resize(frame, (400, 500))\n",
    "    cv2.imshow('video', frame_resized)\n",
    "    if cv2.waitKey(25) == ord('q') :\n",
    "        break\n",
    "cap.release()\n",
    "cv2.destroyAllWindows()"
   ]
  },
  {
   "cell_type": "markdown",
   "metadata": {},
   "source": [
    "비율로 설정"
   ]
  },
  {
   "cell_type": "code",
   "execution_count": 15,
   "metadata": {},
   "outputs": [],
   "source": [
    "import cv2\n",
    "\n",
    "cap = cv2.VideoCapture('cat-video.mp4')\n",
    "while cap.isOpened() :\n",
    "    ret, frame = cap.read()\n",
    "    \n",
    "    if not ret :\n",
    "        break\n",
    "    frame_resized = cv2.resize(frame, None, fx = 1.5, fy = 1.5, interpolation = cv2.INTER_CUBIC)\n",
    "    cv2.imshow('video', frame_resized)\n",
    "    if cv2.waitKey(25) == ord('q') :\n",
    "        break\n",
    "cap.release()\n",
    "cv2.destroyAllWindows()"
   ]
  },
  {
   "cell_type": "code",
   "execution_count": null,
   "metadata": {},
   "outputs": [],
   "source": []
  }
 ],
 "metadata": {
  "kernelspec": {
   "display_name": "Python 3",
   "language": "python",
   "name": "python3"
  },
  "language_info": {
   "codemirror_mode": {
    "name": "ipython",
    "version": 3
   },
   "file_extension": ".py",
   "mimetype": "text/x-python",
   "name": "python",
   "nbconvert_exporter": "python",
   "pygments_lexer": "ipython3",
   "version": "3.7.6"
  }
 },
 "nbformat": 4,
 "nbformat_minor": 4
}
