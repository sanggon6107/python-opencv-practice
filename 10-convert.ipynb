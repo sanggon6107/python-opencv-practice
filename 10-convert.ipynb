{
 "cells": [
  {
   "cell_type": "markdown",
   "metadata": {},
   "source": [
    "# 10. 이미지 변형\n",
    "전처리에 많이 쓰인다.  \n",
    "## 흑백 이미지 변형"
   ]
  },
  {
   "cell_type": "code",
   "execution_count": 2,
   "metadata": {},
   "outputs": [],
   "source": [
    "import cv2\n",
    "\n",
    "img = cv2.imread('cat.jpg')\n",
    "\n",
    "dst = cv2.cvtColor(img, cv2.COLOR_BGR2GRAY)\n",
    "\n",
    "cv2.imshow('img', img)\n",
    "cv2.imshow('gray', dst)\n",
    "cv2.waitKey(0)\n",
    "cv2.destroyAllWindows()"
   ]
  },
  {
   "cell_type": "markdown",
   "metadata": {},
   "source": [
    "## 블러\n",
    "\n",
    "이미지 처리시 외곽선 처리를 위해 쓴다.  \n",
    "\n",
    "## 가우시안 블러\n",
    "### 커널 사이즈 변화에 따른 흐림"
   ]
  },
  {
   "cell_type": "code",
   "execution_count": 4,
   "metadata": {},
   "outputs": [],
   "source": [
    "import cv2\n",
    "\n",
    "img = cv2.imread('cat.jpg')\n",
    "\n",
    "# 커널 사이즈 : 보통 (3, 3), (5, 5) or (7, 7) 대중적으로 쓴다. 성능이 가장 우수하기 때문.\n",
    "\n",
    "kernel_3 = cv2.GaussianBlur(img, (3, 3), 0) # 대상 이미지, 커널 사이즈, 표준편차\n",
    "kernel_5 = cv2.GaussianBlur(img, (5, 5), 0) # 대상 이미지, 커널 사이즈, 표준편차\n",
    "kernel_7 = cv2.GaussianBlur(img, (7, 7), 0) # 대상 이미지, 커널 사이즈, 표준편차\n",
    "\n",
    "cv2.imshow('img', img)\n",
    "cv2.imshow('3', kernel_3)\n",
    "cv2.imshow('5', kernel_5)\n",
    "cv2.imshow('7', kernel_7)\n",
    "\n",
    "\n",
    "cv2.waitKey(0)\n",
    "cv2.destroyAllWindows()"
   ]
  },
  {
   "cell_type": "markdown",
   "metadata": {},
   "source": [
    "##가우시안 블러\n",
    "### 표준 편차 변화에 따른 흐림"
   ]
  },
  {
   "cell_type": "code",
   "execution_count": 5,
   "metadata": {},
   "outputs": [],
   "source": [
    "import cv2\n",
    "\n",
    "img = cv2.imread('cat.jpg')\n",
    "\n",
    "\n",
    "sigma_1 = cv2.GaussianBlur(img, (0, 0), 1) # 커널 사이즈 0으로 하면 sigmaX에 따라 자동으로 커널 설정됨. sigmaX : 가우시안 커널의 X방향의 표준 편차\n",
    "sigma_2 = cv2.GaussianBlur(img, (0, 0), 2)\n",
    "sigma_3 = cv2.GaussianBlur(img, (0, 0), 3)\n",
    "\n",
    "cv2.imshow('img', img)\n",
    "cv2.imshow('1', sigma_1)\n",
    "cv2.imshow('2', sigma_2)\n",
    "cv2.imshow('3', sigma_3)\n",
    "\n",
    "cv2.waitKey(0)\n",
    "cv2.destroyAllWindows()"
   ]
  },
  {
   "cell_type": "code",
   "execution_count": null,
   "metadata": {},
   "outputs": [],
   "source": []
  },
  {
   "cell_type": "code",
   "execution_count": null,
   "metadata": {},
   "outputs": [],
   "source": []
  }
 ],
 "metadata": {
  "kernelspec": {
   "display_name": "Python 3 (ipykernel)",
   "language": "python",
   "name": "python3"
  },
  "language_info": {
   "codemirror_mode": {
    "name": "ipython",
    "version": 3
   },
   "file_extension": ".py",
   "mimetype": "text/x-python",
   "name": "python",
   "nbconvert_exporter": "python",
   "pygments_lexer": "ipython3",
   "version": "3.9.7"
  }
 },
 "nbformat": 4,
 "nbformat_minor": 4
}
