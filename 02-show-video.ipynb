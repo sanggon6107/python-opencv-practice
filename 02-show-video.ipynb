{
 "cells": [
  {
   "cell_type": "markdown",
   "metadata": {},
   "source": [
    "# 2. 동영상 출력\n",
    "\n",
    "영상 출처 : pexels\n",
    "\n",
    "\n",
    "## 동영상 파일 출력"
   ]
  },
  {
   "cell_type": "code",
   "execution_count": 10,
   "metadata": {},
   "outputs": [
    {
     "name": "stdout",
     "output_type": "stream",
     "text": [
      "no frame anymore.\n"
     ]
    }
   ],
   "source": [
    "import cv2\n",
    "\n",
    "CatVideo = cv2.VideoCapture('cat-video.mp4') # 비디오 캡쳐. 파일 객체 CatVideo에 저장.\n",
    "\n",
    "while CatVideo.isOpened() : # 동영상 파일이 올바로 열렸는지?\n",
    "    ret, frame = CatVideo.read() # ret : 성공 여부. frame : 받아온 이미지 ( 프레임 ). imread와 비슷하다.\n",
    "    if not ret : # 더이상 가져올 프레임이 없다.\n",
    "        print('no frame anymore.')\n",
    "        break\n",
    "    cv2.imshow('window name', frame) # 프레임 있으면 보여달라.\n",
    "    \n",
    "    if cv2.waitKey(25) == ord('q') :  # 키보드 q와 같은 코드를 가진 키보드를 받는다면(프레임당 25ms 기다린다.)\n",
    "        break\n",
    "CatVideo.release() # 자원 해제.\n",
    "cv2.destroyAllWindows() # 모든 창 닫기."
   ]
  },
  {
   "cell_type": "markdown",
   "metadata": {},
   "source": [
    "## 실시간 카메라 출력"
   ]
  },
  {
   "cell_type": "code",
   "execution_count": 1,
   "metadata": {},
   "outputs": [],
   "source": [
    "import cv2\n",
    "\n",
    "cap = cv2.VideoCapture(0) # 디바이스 아이디 적는다. 카메라가 하나밖에 없다면 0. 0부터 1, 2, 3...\n",
    "if not cap.isOpened() : # 카메라가 잘 열리지 않은 경우\n",
    "    exit() #프로그램 종료\n",
    "while True : # 프레임 제한이 없다. 무한 반복.\n",
    "    ret, frame = cap.read() # imread와 비슷함.\n",
    "    if not ret :\n",
    "        break\n",
    "    cv2.imshow('window name', frame)\n",
    "    \n",
    "    if cv2.waitKey(1) == ord('q') : # 사용자 q 대입할 때까지 1ms 대기. 입력하면 :\n",
    "        break\n",
    "cap.release()\n",
    "cv2.destroyAllWindows()"
   ]
  }
 ],
 "metadata": {
  "kernelspec": {
   "display_name": "Python 3",
   "language": "python",
   "name": "python3"
  },
  "language_info": {
   "codemirror_mode": {
    "name": "ipython",
    "version": 3
   },
   "file_extension": ".py",
   "mimetype": "text/x-python",
   "name": "python",
   "nbconvert_exporter": "python",
   "pygments_lexer": "ipython3",
   "version": "3.7.6"
  }
 },
 "nbformat": 4,
 "nbformat_minor": 4
}
