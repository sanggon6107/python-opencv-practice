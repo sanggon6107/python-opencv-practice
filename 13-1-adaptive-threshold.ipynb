{
 "cells": [
  {
   "cell_type": "markdown",
   "id": "fca3fa59",
   "metadata": {},
   "source": [
    "# Adaptive threshold\n",
    "\n",
    "- 이미지를 작은 영역으로 나누어서 임계치 적용한다.  \n",
    "- 이미지 처리가 어려운 이미지(이미지일부만 그림자가 가려져서 일관적인 쓰레쉬홀드값 적용이 어려운 경우)에 적용할 수 있다."
   ]
  },
  {
   "cell_type": "code",
   "execution_count": 2,
   "id": "8dc21c99",
   "metadata": {},
   "outputs": [],
   "source": [
    "import cv2\n",
    "\n",
    "img = cv2.imread('book.jpg', cv2.IMREAD_GRAYSCALE)\n",
    "\n",
    "def empty(pos) :\n",
    "    # print(pos)\n",
    "    pass\n",
    "\n",
    "\n",
    "name = 'Trackbar'\n",
    "cv2.namedWindow(name)\n",
    "\n",
    "# block_size : 영역 처리 범위. 양의 홀수만 가능하다. \n",
    "cv2.createTrackbar('block_size', name, 25, 100, empty) # 트랙바, 리캡 : empty는 핸들러.\n",
    "cv2.createTrackbar('c', name, 3, 10, empty) # 일반적으로 c는 양수만 사용한다.\n",
    "\n",
    "while True : # 동영상 처리와 같다.\n",
    "    block_size = cv2.getTrackbarPos('block_size', name) # bar 이름, 창의 이름.\n",
    "    c = cv2.getTrackbarPos('c', name)\n",
    "    \n",
    "    if block_size <= 1 :    # block_size는 양의홀수여야한다.\n",
    "        block_size = 3\n",
    "    if block_size % 2 == 0 :\n",
    "        block_size += 1\n",
    "    \n",
    "    binary = cv2.adaptiveThreshold(img, 255, cv2.ADAPTIVE_THRESH_MEAN_C, cv2.THRESH_BINARY, block_size, c)\n",
    "    \n",
    "    cv2.imshow(name, binary)\n",
    "    if cv2.waitKey(1) == ord('q') :\n",
    "        break\n",
    "    \n",
    "cv2.destroyAllWindows()\n"
   ]
  },
  {
   "cell_type": "code",
   "execution_count": null,
   "id": "de5ff53f",
   "metadata": {},
   "outputs": [],
   "source": []
  }
 ],
 "metadata": {
  "kernelspec": {
   "display_name": "Python 3 (ipykernel)",
   "language": "python",
   "name": "python3"
  },
  "language_info": {
   "codemirror_mode": {
    "name": "ipython",
    "version": 3
   },
   "file_extension": ".py",
   "mimetype": "text/x-python",
   "name": "python",
   "nbconvert_exporter": "python",
   "pygments_lexer": "ipython3",
   "version": "3.9.7"
  }
 },
 "nbformat": 4,
 "nbformat_minor": 5
}
