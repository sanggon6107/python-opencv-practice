{
 "cells": [
  {
   "cell_type": "markdown",
   "id": "2a27f58e",
   "metadata": {},
   "source": [
    "# 15. 이미지 변환(침식)\n",
    "\n",
    "## 이미지를 깎아서 노이즈 제거\n",
    "\n",
    "이미지 외곽 픽셀을 깎는다."
   ]
  },
  {
   "cell_type": "code",
   "execution_count": 1,
   "id": "c63a2f1d",
   "metadata": {},
   "outputs": [],
   "source": [
    "import cv2\n",
    "import numpy as np\n",
    "\n",
    "img = cv2.imread('erode.png', cv2.IMREAD_GRAYSCALE)\n",
    "\n",
    "#kernel\n",
    "kernel = np.ones((3, 3), dtype = np.uint8)\n",
    "\n",
    "erode_1 = cv2.erode(img, kernel, iterations = 1)\n",
    "erode_2 = cv2.erode(img, kernel, iterations = 2)\n",
    "erode_3 = cv2.erode(img, kernel, iterations = 3)\n",
    "\n",
    "cv2.imshow('img', img)\n",
    "cv2.imshow('erode_1', erode_1)\n",
    "cv2.imshow('erode_2', erode_2)\n",
    "cv2.imshow('erode_3', erode_3)\n",
    "cv2.waitKey(0)\n",
    "cv2.destroyAllWindows()\n"
   ]
  },
  {
   "cell_type": "code",
   "execution_count": null,
   "id": "9d0eea8f",
   "metadata": {},
   "outputs": [],
   "source": []
  }
 ],
 "metadata": {
  "kernelspec": {
   "display_name": "Python 3 (ipykernel)",
   "language": "python",
   "name": "python3"
  },
  "language_info": {
   "codemirror_mode": {
    "name": "ipython",
    "version": 3
   },
   "file_extension": ".py",
   "mimetype": "text/x-python",
   "name": "python",
   "nbconvert_exporter": "python",
   "pygments_lexer": "ipython3",
   "version": "3.9.7"
  }
 },
 "nbformat": 4,
 "nbformat_minor": 5
}
