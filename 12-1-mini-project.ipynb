{
 "cells": [
  {
   "cell_type": "markdown",
   "metadata": {},
   "source": [
    "# 미니 프로젝트 : 반자동 문서 스캐너\n",
    "## 마우스 이벤트 등록"
   ]
  },
  {
   "cell_type": "code",
   "execution_count": 9,
   "metadata": {},
   "outputs": [],
   "source": [
    "import cv2\n",
    "\n",
    "def mouse_handler(event, x, y, flags, param) :\n",
    "    if event == cv2.EVENT_LBUTTONDOWN : # 마우스 왼쪽 버튼 누름\n",
    "        print('LBUTTONDOWN')\n",
    "        print(x, y)\n",
    "    elif event == cv2.EVENT_LBUTTONUP : # 마우스 왼쪽 뗌\n",
    "        print('LBUTTONUP')\n",
    "        print(x, y)\n",
    "    elif event == cv2.EVENT_LBUTTONDBLCLK : # 더블클릭 : 더블클릭 때 이벤트 처리는, 다운 -> 더블클릭 -> 업 으로 인식된다.\n",
    "        print('LBUTTONDBLCLK')\n",
    "    #elif event == cv2.EVENT_MOUSEMOVE :\n",
    "        # print('MOUSEMOVE')\n",
    "    \n",
    "\n",
    "img = cv2.imread('poker.jpg')\n",
    "cv2.namedWindow('img') # img라는 윈도우 만들기. 여기에 마우스 이벤트를 처리하기 위한 핸들러 적용\n",
    "cv2.setMouseCallback('img', mouse_handler)\n",
    "\n",
    "cv2.imshow('img', img)\n",
    "cv2.waitKey(0)\n",
    "cv2.destroyAllWindows()"
   ]
  },
  {
   "cell_type": "markdown",
   "metadata": {},
   "source": [
    "## 프로젝트 : 실시간 이미지 세우기"
   ]
  },
  {
   "cell_type": "code",
   "execution_count": 32,
   "metadata": {},
   "outputs": [],
   "source": [
    "import cv2\n",
    "import numpy as np\n",
    "\n",
    "point_list = []\n",
    "img = cv2.imread('poker.jpg')\n",
    "COLOR = (255, 255, 255)\n",
    "\n",
    "def mouse_handler(event, x, y, flags, param) :\n",
    "    if event == cv2.EVENT_LBUTTONDOWN : # 마우스 왼쪽 버튼 누름\n",
    "        point_list.append((x, y))\n",
    "    \n",
    "    for point in point_list :\n",
    "        cv2.circle(img, point, 15, COLOR, cv2.FILLED)\n",
    "\n",
    "    if len(point_list) == 4 :\n",
    "        show_result()\n",
    "        \n",
    "    cv2.imshow('img', img)\n",
    "\n",
    "def show_result() :\n",
    "    width, height = 530, 710 # 가로, 세로 530, 710으로 바꾼다.\n",
    "\n",
    "    src = np.float32(point_list) # 좌표값 input\n",
    "    dst = np.array([[0, 0], [width, 0], [width, height], [0, height]], dtype = np.float32) # 좌표값 output\n",
    "    \n",
    "    matrix = cv2.getPerspectiveTransform(src, dst) # 시점 변환 위한 변환 행렬 계산\n",
    "    result = cv2.warpPerspective(img, matrix, (width, height)) # 변환 행렬 기반으로 이미지 변환\n",
    "    cv2.imshow('result', result)\n",
    "\n",
    "cv2.namedWindow('img') # img라는 윈도우 만들기. 여기에 마우스 이벤트를 처리하기 위한 핸들러 적용\n",
    "cv2.setMouseCallback('img', mouse_handler)\n",
    "cv2.imshow('img', img)\n",
    "cv2.waitKey(0)\n",
    "cv2.destroyAllWindows()"
   ]
  },
  {
   "cell_type": "code",
   "execution_count": null,
   "metadata": {},
   "outputs": [],
   "source": []
  }
 ],
 "metadata": {
  "kernelspec": {
   "display_name": "Python 3",
   "language": "python",
   "name": "python3"
  },
  "language_info": {
   "codemirror_mode": {
    "name": "ipython",
    "version": 3
   },
   "file_extension": ".py",
   "mimetype": "text/x-python",
   "name": "python",
   "nbconvert_exporter": "python",
   "pygments_lexer": "ipython3",
   "version": "3.7.6"
  }
 },
 "nbformat": 4,
 "nbformat_minor": 4
}
